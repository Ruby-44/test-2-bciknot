{
  "metadata": {
    "language_info": {
      "codemirror_mode": {
        "name": "python",
        "version": 3
      },
      "file_extension": ".py",
      "mimetype": "text/x-python",
      "name": "python",
      "nbconvert_exporter": "python",
      "pygments_lexer": "ipython3",
      "version": "3.8"
    },
    "kernelspec": {
      "name": "python",
      "display_name": "Pyolite",
      "language": "python"
    }
  },
  "nbformat_minor": 4,
  "nbformat": 4,
  "cells": [
    {
      "cell_type": "markdown",
      "source": "# My Jupyter Notebook on Skills Network Labs",
      "metadata": {}
    },
    {
      "cell_type": "markdown",
      "source": "**Ruby Hernandez**\nTo be successful",
      "metadata": {}
    },
    {
      "cell_type": "markdown",
      "source": "*I am interested in data science because it just seems cool and I regreted not learning it during my undergrad.*",
      "metadata": {}
    },
    {
      "cell_type": "markdown",
      "source": "<h3>In cell 5 my code should add 1 and 1.<h3>",
      "metadata": {}
    },
    {
      "cell_type": "code",
      "source": "1+1",
      "metadata": {
        "trusted": true
      },
      "execution_count": 1,
      "outputs": [
        {
          "execution_count": 1,
          "output_type": "execute_result",
          "data": {
            "text/plain": "2"
          },
          "metadata": {}
        }
      ]
    },
    {
      "cell_type": "markdown",
      "source": "<ol>\n<li>Numbered List</li>\n<li>Horizontal Rule</li>\n<li>Bulleted List</li>\n</ol>\n\n<hr>\n<ul>\n<li>This</li>\n<li>Is</li>\n<li>Cool</li>\n</ul>\n\n| Can | you |\n| ------ | ------ |\n| see | this |\n\n| it | is |\n| ------ | ------ |\n   | awesome |\n\n",
      "metadata": {}
    },
    {
      "cell_type": "code",
      "source": "",
      "metadata": {},
      "execution_count": null,
      "outputs": []
    }
  ]
}